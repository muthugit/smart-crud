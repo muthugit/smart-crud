{
 "cells": [
  {
   "cell_type": "code",
   "execution_count": 394,
   "id": "24ef5184-8c74-48a5-a4cb-dc302bf58c73",
   "metadata": {},
   "outputs": [],
   "source": [
    "from uuid import uuid4\n",
    "class DynamicObj:\n",
    "    def __init__(self, **kwargs):\n",
    "        self._uuid = str(uuid4())\n",
    "        self.__dict__.update(kwargs)\n",
    "        \n",
    "    def get(self, obj = None):\n",
    "        if obj is None:\n",
    "            return self.__get_all()\n",
    "        elif isinstance(getattr(self,obj), self.__class__):\n",
    "            return self.__get_self_obj(obj)\n",
    "        elif isinstance(getattr(self,obj), list):\n",
    "            return self.__get_list_vals(obj)\n",
    "        elif isinstance(getattr(self, obj), dict):\n",
    "            return self.__get_dict_vals(obj)\n",
    "        return getattr(self,obj)\n",
    "    \n",
    "    def __get_dict_vals(self, obj):\n",
    "        dict_obj = getattr(self,obj)\n",
    "        values = {}\n",
    "        for k in dict_obj:\n",
    "            if isinstance(dict_obj[k], self.__class__):\n",
    "                values[k] = dict_obj[k].get()\n",
    "            else:\n",
    "                values[k] = dict_obj[k]\n",
    "        return values\n",
    "    \n",
    "    def __get_self_obj(self, obj):\n",
    "        values = {}\n",
    "        instance_dict = getattr(self,obj).__dict__\n",
    "        for k in instance_dict:\n",
    "            values[k] = getattr(self,obj).get(k)\n",
    "        return values\n",
    "    \n",
    "    def __get_list_vals(self, obj):\n",
    "        if isinstance(getattr(self,obj)[0], self.__class__):\n",
    "            list_vals = getattr(self, obj)\n",
    "            list_objs = []\n",
    "            for k in list_vals:\n",
    "                instance_dict = k.__dict__\n",
    "                values = {}\n",
    "                for j in instance_dict:\n",
    "                    values[j] = k.get(j)\n",
    "                list_objs.append(values)\n",
    "            return list_objs\n",
    "        else:\n",
    "            return getattr(self,obj)\n",
    "\n",
    "    def __get_all(self):\n",
    "        values = {}\n",
    "        for k in self.__dict__:\n",
    "            values[k] = self.get(k)\n",
    "        return values"
   ]
  },
  {
   "cell_type": "code",
   "execution_count": 395,
   "id": "bf807205-cb00-43fb-918e-34190bf99914",
   "metadata": {},
   "outputs": [],
   "source": [
    "_school = {\n",
    "        \"name\": \"SHNV\"\n",
    "}\n",
    "school = DynamicObj(**_school)"
   ]
  },
  {
   "cell_type": "code",
   "execution_count": 396,
   "id": "510f717d-94c1-4fca-86b0-48f93370e9d4",
   "metadata": {},
   "outputs": [],
   "source": [
    "_class = {\n",
    "    \"name\": \"12-c\",\n",
    "    \"school\": school\n",
    "}\n",
    "school_class = DynamicObj(**_class)"
   ]
  },
  {
   "cell_type": "code",
   "execution_count": 397,
   "id": "22c6500f-9929-4276-a6da-8473cbbe4fd4",
   "metadata": {},
   "outputs": [],
   "source": [
    "_stu = {\n",
    "    \"name\": \"Muthu\",\n",
    "    \"class_name\": school_class\n",
    "}\n",
    "school_stu = DynamicObj(**_stu)"
   ]
  },
  {
   "cell_type": "code",
   "execution_count": 398,
   "id": "a4fa414f-2e06-4c7e-86d0-9ba861dedce2",
   "metadata": {},
   "outputs": [],
   "source": [
    "_notebook = {\n",
    "    \"id\": 1,\n",
    "    \"student\": school_stu\n",
    "}\n",
    "notebook1 = DynamicObj(**_notebook)"
   ]
  },
  {
   "cell_type": "code",
   "execution_count": 399,
   "id": "0bcde1e7-cfeb-41af-a7ee-046db60dce9f",
   "metadata": {},
   "outputs": [],
   "source": [
    "_notebook = {\n",
    "    \"id\": 2,\n",
    "    \"student\": school_stu\n",
    "}\n",
    "notebook2 = DynamicObj(**_notebook)"
   ]
  },
  {
   "cell_type": "code",
   "execution_count": 400,
   "id": "fd2b8cb1-b7ce-4f4c-9414-a8ccb60bf10d",
   "metadata": {},
   "outputs": [],
   "source": [
    "_notebooks = {\n",
    "    \"id\": 1,\n",
    "    \"notes\": [notebook1, notebook2],\n",
    "    \"pages\": [1,2,3],\n",
    "    \"mynote\": {\n",
    "        \"fav\": notebook1,\n",
    "        \"fav2\": {\n",
    "            \"color\": \"red\",\n",
    "            \"car\": \"Ford\"\n",
    "        }\n",
    "    }\n",
    "    \n",
    "}\n",
    "notebooks = DynamicObj(**_notebooks)"
   ]
  },
  {
   "cell_type": "code",
   "execution_count": 401,
   "id": "365fa1e8-56e5-402e-8dcc-865ff531faea",
   "metadata": {},
   "outputs": [
    {
     "data": {
      "text/plain": [
       "{'_uuid': 'a46fe228-f028-4951-88b8-13042176472b',\n",
       " 'id': 1,\n",
       " 'notes': [{'_uuid': 'b8664165-d2a5-488b-a88e-2d260f8b5888',\n",
       "   'id': 1,\n",
       "   'student': {'_uuid': '4e68e3ff-beb6-4396-adad-67fd5a0ba848',\n",
       "    'name': 'Muthu',\n",
       "    'class_name': {'_uuid': '9400aafa-df24-4d4b-9edc-4a89f34727d3',\n",
       "     'name': '12-c',\n",
       "     'school': {'_uuid': 'f5d344c5-a68f-4a1c-b024-610d08245b32',\n",
       "      'name': 'SHNV'}}}},\n",
       "  {'_uuid': '8451ebd6-662f-4e9a-b784-0f38dd1e21b2',\n",
       "   'id': 2,\n",
       "   'student': {'_uuid': '4e68e3ff-beb6-4396-adad-67fd5a0ba848',\n",
       "    'name': 'Muthu',\n",
       "    'class_name': {'_uuid': '9400aafa-df24-4d4b-9edc-4a89f34727d3',\n",
       "     'name': '12-c',\n",
       "     'school': {'_uuid': 'f5d344c5-a68f-4a1c-b024-610d08245b32',\n",
       "      'name': 'SHNV'}}}}],\n",
       " 'pages': [1, 2, 3],\n",
       " 'mynote': {'fav': {'_uuid': 'b8664165-d2a5-488b-a88e-2d260f8b5888',\n",
       "   'id': 1,\n",
       "   'student': {'_uuid': '4e68e3ff-beb6-4396-adad-67fd5a0ba848',\n",
       "    'name': 'Muthu',\n",
       "    'class_name': {'_uuid': '9400aafa-df24-4d4b-9edc-4a89f34727d3',\n",
       "     'name': '12-c',\n",
       "     'school': {'_uuid': 'f5d344c5-a68f-4a1c-b024-610d08245b32',\n",
       "      'name': 'SHNV'}}}},\n",
       "  'fav2': {'color': 'red', 'car': 'Ford'}}}"
      ]
     },
     "execution_count": 401,
     "metadata": {},
     "output_type": "execute_result"
    }
   ],
   "source": [
    "notebooks.get()"
   ]
  },
  {
   "cell_type": "code",
   "execution_count": 402,
   "id": "1d0bfbd2-a8cc-4c75-be3d-96c89cc6cc87",
   "metadata": {},
   "outputs": [
    {
     "data": {
      "text/plain": [
       "{'_uuid': 'a46fe228-f028-4951-88b8-13042176472b',\n",
       " 'id': 1,\n",
       " 'notes': [<__main__.DynamicObj at 0x1099e6460>,\n",
       "  <__main__.DynamicObj at 0x1099e69d0>],\n",
       " 'pages': [1, 2, 3],\n",
       " 'mynote': {'fav': <__main__.DynamicObj at 0x1099e6460>,\n",
       "  'fav2': {'color': 'red', 'car': 'Ford'}}}"
      ]
     },
     "execution_count": 402,
     "metadata": {},
     "output_type": "execute_result"
    }
   ],
   "source": [
    "notebooks.__dict__"
   ]
  },
  {
   "cell_type": "code",
   "execution_count": 403,
   "id": "e9a094f8-9561-4d90-8d3d-7113d601a7b4",
   "metadata": {},
   "outputs": [
    {
     "data": {
      "text/plain": [
       "[{'_uuid': 'b8664165-d2a5-488b-a88e-2d260f8b5888',\n",
       "  'id': 1,\n",
       "  'student': {'_uuid': '4e68e3ff-beb6-4396-adad-67fd5a0ba848',\n",
       "   'name': 'Muthu',\n",
       "   'class_name': {'_uuid': '9400aafa-df24-4d4b-9edc-4a89f34727d3',\n",
       "    'name': '12-c',\n",
       "    'school': {'_uuid': 'f5d344c5-a68f-4a1c-b024-610d08245b32',\n",
       "     'name': 'SHNV'}}}},\n",
       " {'_uuid': '8451ebd6-662f-4e9a-b784-0f38dd1e21b2',\n",
       "  'id': 2,\n",
       "  'student': {'_uuid': '4e68e3ff-beb6-4396-adad-67fd5a0ba848',\n",
       "   'name': 'Muthu',\n",
       "   'class_name': {'_uuid': '9400aafa-df24-4d4b-9edc-4a89f34727d3',\n",
       "    'name': '12-c',\n",
       "    'school': {'_uuid': 'f5d344c5-a68f-4a1c-b024-610d08245b32',\n",
       "     'name': 'SHNV'}}}}]"
      ]
     },
     "execution_count": 403,
     "metadata": {},
     "output_type": "execute_result"
    }
   ],
   "source": [
    "notebooks.get(\"notes\")"
   ]
  },
  {
   "cell_type": "code",
   "execution_count": 404,
   "id": "d23f6c52-52c8-4787-b68c-b01a508100ca",
   "metadata": {},
   "outputs": [
    {
     "data": {
      "text/plain": [
       "{'_uuid': 'a46fe228-f028-4951-88b8-13042176472b',\n",
       " 'id': 1,\n",
       " 'notes': [{'_uuid': 'b8664165-d2a5-488b-a88e-2d260f8b5888',\n",
       "   'id': 1,\n",
       "   'student': {'_uuid': '4e68e3ff-beb6-4396-adad-67fd5a0ba848',\n",
       "    'name': 'Muthu',\n",
       "    'class_name': {'_uuid': '9400aafa-df24-4d4b-9edc-4a89f34727d3',\n",
       "     'name': '12-c',\n",
       "     'school': {'_uuid': 'f5d344c5-a68f-4a1c-b024-610d08245b32',\n",
       "      'name': 'SHNV'}}}},\n",
       "  {'_uuid': '8451ebd6-662f-4e9a-b784-0f38dd1e21b2',\n",
       "   'id': 2,\n",
       "   'student': {'_uuid': '4e68e3ff-beb6-4396-adad-67fd5a0ba848',\n",
       "    'name': 'Muthu',\n",
       "    'class_name': {'_uuid': '9400aafa-df24-4d4b-9edc-4a89f34727d3',\n",
       "     'name': '12-c',\n",
       "     'school': {'_uuid': 'f5d344c5-a68f-4a1c-b024-610d08245b32',\n",
       "      'name': 'SHNV'}}}}],\n",
       " 'pages': [1, 2, 3],\n",
       " 'mynote': {'fav': {'_uuid': 'b8664165-d2a5-488b-a88e-2d260f8b5888',\n",
       "   'id': 1,\n",
       "   'student': {'_uuid': '4e68e3ff-beb6-4396-adad-67fd5a0ba848',\n",
       "    'name': 'Muthu',\n",
       "    'class_name': {'_uuid': '9400aafa-df24-4d4b-9edc-4a89f34727d3',\n",
       "     'name': '12-c',\n",
       "     'school': {'_uuid': 'f5d344c5-a68f-4a1c-b024-610d08245b32',\n",
       "      'name': 'SHNV'}}}},\n",
       "  'fav2': {'color': 'red', 'car': 'Ford'}}}"
      ]
     },
     "execution_count": 404,
     "metadata": {},
     "output_type": "execute_result"
    }
   ],
   "source": [
    "notebooks.get()"
   ]
  },
  {
   "cell_type": "code",
   "execution_count": 410,
   "id": "e7369265-6090-4fba-ad3b-728b74db8af6",
   "metadata": {},
   "outputs": [
    {
     "name": "stdout",
     "output_type": "stream",
     "text": [
      "{\n",
      "    \"_uuid\": \"a46fe228-f028-4951-88b8-13042176472b\",\n",
      "    \"id\": 1,\n",
      "    \"notes\": [\n",
      "        {\n",
      "            \"_uuid\": \"b8664165-d2a5-488b-a88e-2d260f8b5888\",\n",
      "            \"id\": 1,\n",
      "            \"student\": {\n",
      "                \"_uuid\": \"4e68e3ff-beb6-4396-adad-67fd5a0ba848\",\n",
      "                \"name\": \"Muthu\",\n",
      "                \"class_name\": {\n",
      "                    \"_uuid\": \"9400aafa-df24-4d4b-9edc-4a89f34727d3\",\n",
      "                    \"name\": \"12-c\",\n",
      "                    \"school\": {\n",
      "                        \"_uuid\": \"f5d344c5-a68f-4a1c-b024-610d08245b32\",\n",
      "                        \"name\": \"SHNV\"\n",
      "                    }\n",
      "                }\n",
      "            }\n",
      "        },\n",
      "        {\n",
      "            \"_uuid\": \"8451ebd6-662f-4e9a-b784-0f38dd1e21b2\",\n",
      "            \"id\": 2,\n",
      "            \"student\": {\n",
      "                \"_uuid\": \"4e68e3ff-beb6-4396-adad-67fd5a0ba848\",\n",
      "                \"name\": \"Muthu\",\n",
      "                \"class_name\": {\n",
      "                    \"_uuid\": \"9400aafa-df24-4d4b-9edc-4a89f34727d3\",\n",
      "                    \"name\": \"12-c\",\n",
      "                    \"school\": {\n",
      "                        \"_uuid\": \"f5d344c5-a68f-4a1c-b024-610d08245b32\",\n",
      "                        \"name\": \"SHNV\"\n",
      "                    }\n",
      "                }\n",
      "            }\n",
      "        }\n",
      "    ],\n",
      "    \"pages\": [\n",
      "        1,\n",
      "        2,\n",
      "        3\n",
      "    ],\n",
      "    \"mynote\": {\n",
      "        \"fav\": {\n",
      "            \"_uuid\": \"b8664165-d2a5-488b-a88e-2d260f8b5888\",\n",
      "            \"id\": 1,\n",
      "            \"student\": {\n",
      "                \"_uuid\": \"4e68e3ff-beb6-4396-adad-67fd5a0ba848\",\n",
      "                \"name\": \"Muthu\",\n",
      "                \"class_name\": {\n",
      "                    \"_uuid\": \"9400aafa-df24-4d4b-9edc-4a89f34727d3\",\n",
      "                    \"name\": \"12-c\",\n",
      "                    \"school\": {\n",
      "                        \"_uuid\": \"f5d344c5-a68f-4a1c-b024-610d08245b32\",\n",
      "                        \"name\": \"SHNV\"\n",
      "                    }\n",
      "                }\n",
      "            }\n",
      "        },\n",
      "        \"fav2\": {\n",
      "            \"color\": \"red\",\n",
      "            \"car\": \"Ford\"\n",
      "        }\n",
      "    }\n",
      "}\n"
     ]
    }
   ],
   "source": [
    "import json\n",
    "print(json.dumps(notebooks.get(), indent=4))"
   ]
  },
  {
   "cell_type": "code",
   "execution_count": null,
   "id": "b5f3e736-8e33-44dd-a701-20c1d328d706",
   "metadata": {},
   "outputs": [],
   "source": []
  }
 ],
 "metadata": {
  "kernelspec": {
   "display_name": "Python 3 (ipykernel)",
   "language": "python",
   "name": "python3"
  },
  "language_info": {
   "codemirror_mode": {
    "name": "ipython",
    "version": 3
   },
   "file_extension": ".py",
   "mimetype": "text/x-python",
   "name": "python",
   "nbconvert_exporter": "python",
   "pygments_lexer": "ipython3",
   "version": "3.9.12"
  }
 },
 "nbformat": 4,
 "nbformat_minor": 5
}
