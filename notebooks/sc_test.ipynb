{
 "cells": [
  {
   "cell_type": "code",
   "execution_count": 1,
   "id": "dde83852-3683-49d0-a724-fc0edfce81a9",
   "metadata": {},
   "outputs": [],
   "source": [
    "import smartcrud"
   ]
  },
  {
   "cell_type": "code",
   "execution_count": 2,
   "id": "5766de22-d781-4dff-a2c4-42e6fe2d757f",
   "metadata": {},
   "outputs": [
    {
     "name": "stdout",
     "output_type": "stream",
     "text": [
      "SQLite\n",
      "Setting SQLite\n"
     ]
    }
   ],
   "source": [
    "sc = smartcrud.init(\"/opt/muthu/smart-crud/example_app/\")"
   ]
  },
  {
   "cell_type": "code",
   "execution_count": 3,
   "id": "7255385d-e93e-4e2e-abeb-1234a5baeabc",
   "metadata": {},
   "outputs": [
    {
     "data": {
      "text/plain": [
       "{'db_type': 'SQLite',\n",
       " 'connection': {'path': '/opt/muthu/smart-crud/example_app/',\n",
       "  'db_name': 'mydb.db'}}"
      ]
     },
     "execution_count": 3,
     "metadata": {},
     "output_type": "execute_result"
    }
   ],
   "source": [
    "sc.repository"
   ]
  },
  {
   "cell_type": "code",
   "execution_count": 5,
   "id": "ba822590-31a2-46a8-b400-039e9772c814",
   "metadata": {},
   "outputs": [
    {
     "data": {
      "text/plain": [
       "[{'temp411_id': 1,\n",
       "  'name': 'Muthu',\n",
       "  'price': 10,\n",
       "  'is_active': 'true',\n",
       "  'tag': '1',\n",
       "  'godown_id': 1},\n",
       " {'temp411_id': 2,\n",
       "  'name': 'Pandian',\n",
       "  'price': 10,\n",
       "  'is_active': 'false',\n",
       "  'tag': '2',\n",
       "  'godown_id': 2}]"
      ]
     },
     "execution_count": 5,
     "metadata": {},
     "output_type": "execute_result"
    }
   ],
   "source": [
    "sc.select(\"temp411\")"
   ]
  },
  {
   "cell_type": "code",
   "execution_count": 4,
   "id": "ebacd369-7391-4fd3-9d8f-37bfc9bbc430",
   "metadata": {},
   "outputs": [
    {
     "name": "stdout",
     "output_type": "stream",
     "text": [
      "name => Required: False\n",
      "price => Required: False\n",
      "is_active => Required: True\n",
      "tag => Required: False\n",
      "godown_id => Required: True\n"
     ]
    }
   ],
   "source": [
    "sc.create_table({\n",
    "     \"tbl_name\": \"temp411\",\n",
    "     \"cols\": {\n",
    "        \"name\": \"str\",\n",
    "        \"price\": \"int\",\n",
    "         \"is_active\": \"bool\",\n",
    "         \"tag\": \"str\",\n",
    "         \"godown_id\": \"int\"\n",
    "     },\n",
    "     \"required\": ['name', 'price', 'tag']\n",
    "    })"
   ]
  },
  {
   "cell_type": "code",
   "execution_count": null,
   "id": "8ac04095-2b79-41cb-9066-bd202fa25835",
   "metadata": {},
   "outputs": [],
   "source": []
  }
 ],
 "metadata": {
  "kernelspec": {
   "display_name": "Python 3 (ipykernel)",
   "language": "python",
   "name": "python3"
  },
  "language_info": {
   "codemirror_mode": {
    "name": "ipython",
    "version": 3
   },
   "file_extension": ".py",
   "mimetype": "text/x-python",
   "name": "python",
   "nbconvert_exporter": "python",
   "pygments_lexer": "ipython3",
   "version": "3.9.12"
  }
 },
 "nbformat": 4,
 "nbformat_minor": 5
}
