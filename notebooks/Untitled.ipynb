{
 "cells": [
  {
   "cell_type": "code",
   "execution_count": 1,
   "id": "1ec0a093-3ed8-472c-8236-f2129c2fcd20",
   "metadata": {},
   "outputs": [],
   "source": [
    "import generic_obj"
   ]
  },
  {
   "cell_type": "code",
   "execution_count": 5,
   "id": "12760b3d-2646-4d1f-9bd9-48914981d1b3",
   "metadata": {},
   "outputs": [],
   "source": [
    "a={\n",
    "    \"__module\": \"A\",\n",
    " \"name\": \"Temp\"   \n",
    "}\n",
    "aa = generic_obj.to_obj(a)"
   ]
  },
  {
   "cell_type": "code",
   "execution_count": 7,
   "id": "e7cd950e-597a-42c9-96a5-449e6f265438",
   "metadata": {},
   "outputs": [
    {
     "data": {
      "text/plain": [
       "'A'"
      ]
     },
     "execution_count": 7,
     "metadata": {},
     "output_type": "execute_result"
    }
   ],
   "source": [
    "aa.__class__.__module__"
   ]
  },
  {
   "cell_type": "code",
   "execution_count": 4,
   "id": "6d6d6f77-2842-46c3-901e-4dd912324262",
   "metadata": {},
   "outputs": [],
   "source": [
    "b = {\n",
    "  \"name\": \"B\",\n",
    "  \"child\": aa\n",
    "}\n",
    "bb = generic_obj.to_obj(b)"
   ]
  },
  {
   "cell_type": "code",
   "execution_count": 102,
   "id": "a542fa6e-755b-45ae-90b7-f1f2c2e75876",
   "metadata": {},
   "outputs": [
    {
     "data": {
      "text/plain": [
       "generic_obj.generic_obj.GenericObj"
      ]
     },
     "execution_count": 102,
     "metadata": {},
     "output_type": "execute_result"
    }
   ],
   "source": [
    "type(bb)"
   ]
  },
  {
   "cell_type": "code",
   "execution_count": 5,
   "id": "19161159-63d2-45f5-ad68-b80508058fb4",
   "metadata": {},
   "outputs": [
    {
     "data": {
      "text/plain": [
       "{'_uuid': 'b4a876a5-c3e8-4168-9be0-c5211e930dc3',\n",
       " 'name': 'B',\n",
       " 'child': {'_uuid': '3a25ce15-f7ab-484a-98ee-4bd96ccc70f8', 'name': 'Temp'}}"
      ]
     },
     "execution_count": 5,
     "metadata": {},
     "output_type": "execute_result"
    }
   ],
   "source": [
    "bb.get()"
   ]
  },
  {
   "cell_type": "code",
   "execution_count": 9,
   "id": "e30ecbff-6b59-4837-870d-1514723250e0",
   "metadata": {},
   "outputs": [
    {
     "name": "stdout",
     "output_type": "stream",
     "text": [
      "{\n",
      "    \"_uuid\": \"b4a876a5-c3e8-4168-9be0-c5211e930dc3\",\n",
      "    \"name\": \"B\",\n",
      "    \"child\": {\n",
      "        \"_uuid\": \"3a25ce15-f7ab-484a-98ee-4bd96ccc70f8\",\n",
      "        \"name\": \"Temp\"\n",
      "    }\n",
      "}\n"
     ]
    }
   ],
   "source": [
    "import json\n",
    "print(json.dumps(bb.get(), indent=4))"
   ]
  },
  {
   "cell_type": "code",
   "execution_count": null,
   "id": "b07aed93-4f7c-4f80-a38a-2c488f6a80a6",
   "metadata": {},
   "outputs": [],
   "source": []
  }
 ],
 "metadata": {
  "kernelspec": {
   "display_name": "Python 3 (ipykernel)",
   "language": "python",
   "name": "python3"
  },
  "language_info": {
   "codemirror_mode": {
    "name": "ipython",
    "version": 3
   },
   "file_extension": ".py",
   "mimetype": "text/x-python",
   "name": "python",
   "nbconvert_exporter": "python",
   "pygments_lexer": "ipython3",
   "version": "3.9.12"
  }
 },
 "nbformat": 4,
 "nbformat_minor": 5
}
