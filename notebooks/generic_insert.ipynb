{
 "cells": [
  {
   "cell_type": "code",
   "execution_count": 93,
   "id": "40b66cfa-5e9b-4dc2-8a14-a80cb0d3e336",
   "metadata": {},
   "outputs": [],
   "source": [
    "sample_master = {\n",
    "    \"item\": {\n",
    "        \"name\": \"Demo\",\n",
    "        \"price\": 10,\n",
    "        \"is_active\": True,\n",
    "        \"tag\": \"Soap\",\n",
    "        \"godown_id\": 1\n",
    "    }\n",
    "}"
   ]
  },
  {
   "cell_type": "code",
   "execution_count": 168,
   "id": "73138db7-6069-4de5-92ca-14d5310d6230",
   "metadata": {},
   "outputs": [],
   "source": [
    "sample_sales = {\n",
    "    \"sales\": {\n",
    "        \"customer_id\": 1,\n",
    "        \"__attach__\": [\n",
    "                {\n",
    "                    \"sales_item\": {\n",
    "                        \"item_id\": 1,\n",
    "                        \"qty\": 10,\n",
    "                        \"price\": 20,\n",
    "                        \"total\": 30\n",
    "                    }\n",
    "                },\n",
    "                {\n",
    "                        \"sales_item\": {\n",
    "                            \"item_id\": 2,\n",
    "                            \"qty\": 100,\n",
    "                            \"price\": 200,\n",
    "                            \"total\": 300\n",
    "                        }\n",
    "                    }\n",
    "            ]\n",
    "        }\n",
    "    }"
   ]
  },
  {
   "cell_type": "code",
   "execution_count": 169,
   "id": "78bdd756-febd-485f-bc54-cb75b95d8566",
   "metadata": {},
   "outputs": [],
   "source": [
    "godown = {\n",
    "    \"cols\": {\n",
    "        \"name\": str,\n",
    "        \"location\": str\n",
    "    },\n",
    "    \"required\": ['name']\n",
    "}"
   ]
  },
  {
   "cell_type": "code",
   "execution_count": 170,
   "id": "506d7908-fd94-4f57-98a9-381e4eeb8a46",
   "metadata": {},
   "outputs": [],
   "source": [
    "item = {\n",
    "     \"cols\": {\n",
    "        \"name\": str,\n",
    "        \"price\": int,\n",
    "         \"is_active\": bool,\n",
    "         \"tag\": str,\n",
    "         \"godown_id\": int\n",
    "     },\n",
    "     \"required\": ['name', 'price', 'tag'],\n",
    " }"
   ]
  },
  {
   "cell_type": "code",
   "execution_count": 177,
   "id": "fbb6176e-a1e5-41f5-a85e-d5da5f3ff581",
   "metadata": {},
   "outputs": [],
   "source": [
    "sales = {\n",
    "    \"cols\": {\n",
    "       \"customer_id\": int,\n",
    "        \"__attach__\": [\"sales_item\"]\n",
    "    },\n",
    "    \"required\": [\"customer_id\"]\n",
    "}"
   ]
  },
  {
   "cell_type": "code",
   "execution_count": 172,
   "id": "53c9ecf0-6efa-4785-8018-03f25a9984a4",
   "metadata": {},
   "outputs": [],
   "source": [
    "sales_item = {\n",
    "    \"cols\": {\n",
    "        \"sales_id\": int,\n",
    "        \"item_id\": int,\n",
    "        \"qty\": float,\n",
    "        \"price\": float,\n",
    "        \"total\": float\n",
    "    },\n",
    "    \"required\": []\n",
    "}"
   ]
  },
  {
   "cell_type": "code",
   "execution_count": 173,
   "id": "19f78c58-6f29-4695-858a-f92d9b16aea0",
   "metadata": {},
   "outputs": [],
   "source": [
    "repo = {\n",
    "    \"item\": item,\n",
    "    \"sales\": sales,\n",
    "    \"sales_item\": sales_item\n",
    "}"
   ]
  },
  {
   "cell_type": "code",
   "execution_count": 174,
   "id": "b5320526-6a31-4303-9203-76bea540966f",
   "metadata": {},
   "outputs": [
    {
     "data": {
      "text/plain": [
       "{'item': {'name': 'Demo',\n",
       "  'price': 10,\n",
       "  'is_active': True,\n",
       "  'tag': 'Soap',\n",
       "  'godown_id': 1}}"
      ]
     },
     "execution_count": 174,
     "metadata": {},
     "output_type": "execute_result"
    }
   ],
   "source": [
    "sample_master"
   ]
  },
  {
   "cell_type": "code",
   "execution_count": 180,
   "id": "27b6cd7b-8c1b-4307-90d3-3acbd07a87a0",
   "metadata": {},
   "outputs": [],
   "source": [
    "class Repository:\n",
    "    def __init__(self, **kwargs):\n",
    "        self.repo = list(kwargs.keys())[0]\n",
    "        self.cols = []\n",
    "        self.values = []\n",
    "        self.items = kwargs[self.repo]\n",
    "        self.dtypes = [str, int, float, bool]\n",
    "        self.is_child = False\n",
    "    \n",
    "    def insert(self):\n",
    "        self.__check_required_cols()\n",
    "        if not self.is_child:\n",
    "            print(\"Transaction begin\")\n",
    "        for k in self.items:\n",
    "            if repo[self.repo]['cols'][k] in self.dtypes and k not in ['__attach__']:\n",
    "                self.cols.append(k)\n",
    "                if type(self.items[k]) in [str, bool]:\n",
    "                    self.values.append(f'\"{self.items[k]}\"')\n",
    "                else:\n",
    "                    self.values.append(self.items[k])   \n",
    "        if \"__attach__\" not in self.items:\n",
    "            return self.create_query()\n",
    "        else:\n",
    "            id = self.create_query()\n",
    "            for attach in self.items['__attach__']:\n",
    "                for attach_item in attach:\n",
    "                    attach[attach_item][f\"{self.repo}_id\"] = id\n",
    "                    attach_repo = {\n",
    "                        attach_item: attach[attach_item]\n",
    "                    }\n",
    "                    aa = Repository(**attach_repo)\n",
    "                    aa.is_child = True\n",
    "                    aa.insert()\n",
    "        if not self.is_child:\n",
    "            print(\"Transaction Ends\")\n",
    "        \n",
    "    def __check_required_cols(self):\n",
    "        for req_col in repo[self.repo]['required']:\n",
    "            if req_col not in self.items:\n",
    "                raise Exception(f\"Column {req_col} missing\")\n",
    "\n",
    "                \n",
    "    def create_query(self):\n",
    "        query = f\"\"\"\n",
    "                INSERT INTO {self.repo} \n",
    "                    ({\",\".join(self.cols)})\n",
    "                VALUES \n",
    "                    ({\",\".join(map(str, self.values))})\n",
    "                \"\"\"\n",
    "        print(query)\n",
    "        return 1\n",
    "    "
   ]
  },
  {
   "cell_type": "code",
   "execution_count": 181,
   "id": "ea36601d-099f-4950-b2e0-606e60c6f363",
   "metadata": {},
   "outputs": [
    {
     "name": "stdout",
     "output_type": "stream",
     "text": [
      "Transaction begin\n",
      "\n",
      "                INSERT INTO sales \n",
      "                    (customer_id)\n",
      "                VALUES \n",
      "                    (1)\n",
      "                \n",
      "\n",
      "                INSERT INTO sales_item \n",
      "                    (item_id,qty,price,total,sales_id)\n",
      "                VALUES \n",
      "                    (1,10,20,30,1)\n",
      "                \n",
      "\n",
      "                INSERT INTO sales_item \n",
      "                    (item_id,qty,price,total,sales_id)\n",
      "                VALUES \n",
      "                    (2,100,200,300,1)\n",
      "                \n",
      "Transaction Ends\n"
     ]
    }
   ],
   "source": [
    "ma = Repository(**sample_sales)\n",
    "ma.insert()"
   ]
  },
  {
   "cell_type": "code",
   "execution_count": null,
   "id": "e2209f17-ef6a-4b7f-be0f-a4b469c7e8f2",
   "metadata": {},
   "outputs": [],
   "source": [
    "ma = Repository(**sample_master)\n",
    "ma.insert()"
   ]
  },
  {
   "cell_type": "code",
   "execution_count": null,
   "id": "a86c3d7d-aa03-43b8-afe3-8bc59a243717",
   "metadata": {},
   "outputs": [],
   "source": []
  }
 ],
 "metadata": {
  "kernelspec": {
   "display_name": "Python 3 (ipykernel)",
   "language": "python",
   "name": "python3"
  },
  "language_info": {
   "codemirror_mode": {
    "name": "ipython",
    "version": 3
   },
   "file_extension": ".py",
   "mimetype": "text/x-python",
   "name": "python",
   "nbconvert_exporter": "python",
   "pygments_lexer": "ipython3",
   "version": "3.9.12"
  }
 },
 "nbformat": 4,
 "nbformat_minor": 5
}
