{
 "cells": [
  {
   "cell_type": "code",
   "execution_count": 82,
   "id": "24ef5184-8c74-48a5-a4cb-dc302bf58c73",
   "metadata": {
    "tags": []
   },
   "outputs": [],
   "source": [
    "from uuid import uuid4\n",
    "import copy\n",
    "class Generic:\n",
    "    def __init__(self, **kwargs):\n",
    "        self._uuid = str(uuid4())\n",
    "        self.__dict__.update(kwargs)\n",
    "        \n",
    "    def register(self, name):\n",
    "        self.__class__.__module__ = name\n",
    "        globals()[name] = self\n",
    "        \n",
    "    def __call__(self):\n",
    "        return copy.deepcopy(self)\n",
    "        \n",
    "    def __change_module_name(self, module_name=None):\n",
    "        if module_name is not None:\n",
    "            self.__class__.__module__ = module_name\n",
    "        \n",
    "    def get(self, obj = None):\n",
    "        if obj is None:\n",
    "            return self.__get_all()\n",
    "        elif isinstance(getattr(self,obj), self.__class__):\n",
    "            return self.__get_self_obj(obj)\n",
    "        elif isinstance(getattr(self,obj), list):\n",
    "            return self.__get_list_vals(obj)\n",
    "        elif isinstance(getattr(self, obj), dict):\n",
    "            return self.__get_dict_vals(obj)\n",
    "        return getattr(self,obj)\n",
    "    \n",
    "    def __get_dict_vals(self, obj):\n",
    "        dict_obj = getattr(self,obj)\n",
    "        values = {}\n",
    "        for k in dict_obj:\n",
    "            if isinstance(dict_obj[k], self.__class__):\n",
    "                values[k] = dict_obj[k].get()\n",
    "            else:\n",
    "                values[k] = dict_obj[k]\n",
    "        return values\n",
    "    \n",
    "    def __get_self_obj(self, obj):\n",
    "        values = {}\n",
    "        instance_dict = getattr(self,obj).__dict__\n",
    "        for k in instance_dict:\n",
    "            values[k] = getattr(self,obj).get(k)\n",
    "        return values\n",
    "    \n",
    "    def __get_list_vals(self, obj):\n",
    "        if isinstance(getattr(self,obj)[0], self.__class__):\n",
    "            list_vals = getattr(self, obj)\n",
    "            list_objs = []\n",
    "            for k in list_vals:\n",
    "                instance_dict = k.__dict__\n",
    "                values = {}\n",
    "                for j in instance_dict:\n",
    "                    values[j] = k.get(j)\n",
    "                list_objs.append(values)\n",
    "            return list_objs\n",
    "        else:\n",
    "            return getattr(self,obj)\n",
    "\n",
    "    def __get_all(self):\n",
    "        values = {}\n",
    "        for k in self.__dict__:\n",
    "            values[k] = self.get(k)\n",
    "        return values"
   ]
  },
  {
   "cell_type": "code",
   "execution_count": 91,
   "id": "bf807205-cb00-43fb-918e-34190bf99914",
   "metadata": {
    "tags": []
   },
   "outputs": [],
   "source": [
    "_school = {\n",
    "    \"name\": \"SHNV\",\n",
    "    \"valu\": 1\n",
    "}\n",
    "school = Generic(**_school)"
   ]
  },
  {
   "cell_type": "code",
   "execution_count": 93,
   "id": "4045ce3d-50ce-4c57-84cd-78ab5918e8d3",
   "metadata": {},
   "outputs": [
    {
     "data": {
      "text/plain": [
       "str"
      ]
     },
     "execution_count": 93,
     "metadata": {},
     "output_type": "execute_result"
    }
   ],
   "source": [
    "type(school.name)"
   ]
  },
  {
   "cell_type": "code",
   "execution_count": 94,
   "id": "ab1aaf0f-ae57-49f5-b27d-69370c077d01",
   "metadata": {},
   "outputs": [
    {
     "data": {
      "text/plain": [
       "int"
      ]
     },
     "execution_count": 94,
     "metadata": {},
     "output_type": "execute_result"
    }
   ],
   "source": [
    "type(school.valu)"
   ]
  },
  {
   "cell_type": "code",
   "execution_count": 24,
   "id": "510f717d-94c1-4fca-86b0-48f93370e9d4",
   "metadata": {
    "collapsed": true,
    "jupyter": {
     "outputs_hidden": true
    }
   },
   "outputs": [],
   "source": [
    "_class = {\n",
    "    \"name\": \"12-c\",\n",
    "    \"school\": school\n",
    "}\n",
    "school_class = Generic(**_class)"
   ]
  },
  {
   "cell_type": "code",
   "execution_count": 25,
   "id": "ee5f591e-5e84-42a0-90d3-1e1f0707a675",
   "metadata": {
    "collapsed": true,
    "jupyter": {
     "outputs_hidden": true
    }
   },
   "outputs": [
    {
     "data": {
      "text/plain": [
       "{'_uuid': '5d3afc1c-736f-48fe-8bc5-66dc94632a1b',\n",
       " 'name': '12-c',\n",
       " 'school': <__main__.Generic at 0x1080aa190>}"
      ]
     },
     "execution_count": 25,
     "metadata": {},
     "output_type": "execute_result"
    }
   ],
   "source": [
    "school_class.__dict__"
   ]
  },
  {
   "cell_type": "code",
   "execution_count": 26,
   "id": "22c6500f-9929-4276-a6da-8473cbbe4fd4",
   "metadata": {
    "collapsed": true,
    "jupyter": {
     "outputs_hidden": true
    }
   },
   "outputs": [],
   "source": [
    "_stu = {\n",
    "    \"name\": \"Muthu\",\n",
    "    \"class_name\": school_class\n",
    "}\n",
    "school_stu = Generic(**_stu)"
   ]
  },
  {
   "cell_type": "code",
   "execution_count": 27,
   "id": "a4fa414f-2e06-4c7e-86d0-9ba861dedce2",
   "metadata": {
    "collapsed": true,
    "jupyter": {
     "outputs_hidden": true
    }
   },
   "outputs": [],
   "source": [
    "_notebook = {\n",
    "    \"id\": 1,\n",
    "    \"student\": school_stu\n",
    "}\n",
    "notebook1 = Generic(**_notebook)"
   ]
  },
  {
   "cell_type": "code",
   "execution_count": 28,
   "id": "87d2b18f-7157-4116-b8c9-680d256571b4",
   "metadata": {
    "collapsed": true,
    "jupyter": {
     "outputs_hidden": true
    }
   },
   "outputs": [
    {
     "data": {
      "text/plain": [
       "__main__.Generic"
      ]
     },
     "execution_count": 28,
     "metadata": {},
     "output_type": "execute_result"
    }
   ],
   "source": [
    "type(notebook1)"
   ]
  },
  {
   "cell_type": "code",
   "execution_count": 29,
   "id": "0bcde1e7-cfeb-41af-a7ee-046db60dce9f",
   "metadata": {
    "collapsed": true,
    "jupyter": {
     "outputs_hidden": true
    }
   },
   "outputs": [],
   "source": [
    "_notebook = {\n",
    "    \"student\": school_stu\n",
    "}\n",
    "notebook2 = Generic(**_notebook)"
   ]
  },
  {
   "cell_type": "code",
   "execution_count": 30,
   "id": "fd2b8cb1-b7ce-4f4c-9414-a8ccb60bf10d",
   "metadata": {
    "collapsed": true,
    "jupyter": {
     "outputs_hidden": true
    }
   },
   "outputs": [],
   "source": [
    "_notebooks = {\n",
    "    \"id\": 1,\n",
    "    \"notes\": [notebook1, notebook2],\n",
    "    \"pages\": [1,2,3],\n",
    "    \"mynote\": {\n",
    "        \"fav\": notebook1,\n",
    "        \"fav2\": {\n",
    "            \"color\": \"red\",\n",
    "            \"car\": \"Ford\"\n",
    "        }\n",
    "    }\n",
    "    \n",
    "}\n",
    "notebooks = Generic(**_notebooks)"
   ]
  },
  {
   "cell_type": "code",
   "execution_count": 31,
   "id": "365fa1e8-56e5-402e-8dcc-865ff531faea",
   "metadata": {
    "collapsed": true,
    "jupyter": {
     "outputs_hidden": true
    }
   },
   "outputs": [
    {
     "data": {
      "text/plain": [
       "{'_uuid': '214b1bb9-77c6-4461-93da-593e4ff35809',\n",
       " 'id': 1,\n",
       " 'notes': [{'_uuid': '91eb7d9b-c569-4327-8116-5fd18d9943cd',\n",
       "   'id': 1,\n",
       "   'student': {'_uuid': 'd0111c44-2693-47c1-9640-62e87627528a',\n",
       "    'name': 'Muthu',\n",
       "    'class_name': {'_uuid': '5d3afc1c-736f-48fe-8bc5-66dc94632a1b',\n",
       "     'name': '12-c',\n",
       "     'school': {'_uuid': 'b78969e3-ea43-452e-8e8e-6dd15383d6e7',\n",
       "      'name': 'SHNV'}}}},\n",
       "  {'_uuid': '119417ec-ec17-4fa4-bb3e-1f3b2bf51449',\n",
       "   'student': {'_uuid': 'd0111c44-2693-47c1-9640-62e87627528a',\n",
       "    'name': 'Muthu',\n",
       "    'class_name': {'_uuid': '5d3afc1c-736f-48fe-8bc5-66dc94632a1b',\n",
       "     'name': '12-c',\n",
       "     'school': {'_uuid': 'b78969e3-ea43-452e-8e8e-6dd15383d6e7',\n",
       "      'name': 'SHNV'}}}}],\n",
       " 'pages': [1, 2, 3],\n",
       " 'mynote': {'fav': {'_uuid': '91eb7d9b-c569-4327-8116-5fd18d9943cd',\n",
       "   'id': 1,\n",
       "   'student': {'_uuid': 'd0111c44-2693-47c1-9640-62e87627528a',\n",
       "    'name': 'Muthu',\n",
       "    'class_name': {'_uuid': '5d3afc1c-736f-48fe-8bc5-66dc94632a1b',\n",
       "     'name': '12-c',\n",
       "     'school': {'_uuid': 'b78969e3-ea43-452e-8e8e-6dd15383d6e7',\n",
       "      'name': 'SHNV'}}}},\n",
       "  'fav2': {'color': 'red', 'car': 'Ford'}}}"
      ]
     },
     "execution_count": 31,
     "metadata": {},
     "output_type": "execute_result"
    }
   ],
   "source": [
    "notebooks.get()"
   ]
  },
  {
   "cell_type": "code",
   "execution_count": 39,
   "id": "e6f1605d-05b5-4f60-b7da-b1e34392f354",
   "metadata": {
    "collapsed": true,
    "jupyter": {
     "outputs_hidden": true
    }
   },
   "outputs": [
    {
     "data": {
      "text/plain": [
       "{'_uuid': '91eb7d9b-c569-4327-8116-5fd18d9943cd',\n",
       " 'id': 1,\n",
       " 'student': {'_uuid': 'd0111c44-2693-47c1-9640-62e87627528a',\n",
       "  'name': 'Muthu',\n",
       "  'class_name': {'_uuid': '5d3afc1c-736f-48fe-8bc5-66dc94632a1b',\n",
       "   'name': '12-c',\n",
       "   'school': {'_uuid': 'b78969e3-ea43-452e-8e8e-6dd15383d6e7',\n",
       "    'name': 'SHNV'}}}}"
      ]
     },
     "execution_count": 39,
     "metadata": {},
     "output_type": "execute_result"
    }
   ],
   "source": [
    "notebooks.notes[0].get()"
   ]
  },
  {
   "cell_type": "code",
   "execution_count": 32,
   "id": "1d0bfbd2-a8cc-4c75-be3d-96c89cc6cc87",
   "metadata": {
    "collapsed": true,
    "jupyter": {
     "outputs_hidden": true
    }
   },
   "outputs": [
    {
     "data": {
      "text/plain": [
       "{'_uuid': '214b1bb9-77c6-4461-93da-593e4ff35809',\n",
       " 'id': 1,\n",
       " 'notes': [<__main__.Generic at 0x1080aa3d0>,\n",
       "  <__main__.Generic at 0x1080aa850>],\n",
       " 'pages': [1, 2, 3],\n",
       " 'mynote': {'fav': <__main__.Generic at 0x1080aa3d0>,\n",
       "  'fav2': {'color': 'red', 'car': 'Ford'}}}"
      ]
     },
     "execution_count": 32,
     "metadata": {},
     "output_type": "execute_result"
    }
   ],
   "source": [
    "notebooks.__dict__"
   ]
  },
  {
   "cell_type": "code",
   "execution_count": 33,
   "id": "e9a094f8-9561-4d90-8d3d-7113d601a7b4",
   "metadata": {
    "collapsed": true,
    "jupyter": {
     "outputs_hidden": true
    }
   },
   "outputs": [
    {
     "data": {
      "text/plain": [
       "[{'_uuid': '91eb7d9b-c569-4327-8116-5fd18d9943cd',\n",
       "  'id': 1,\n",
       "  'student': {'_uuid': 'd0111c44-2693-47c1-9640-62e87627528a',\n",
       "   'name': 'Muthu',\n",
       "   'class_name': {'_uuid': '5d3afc1c-736f-48fe-8bc5-66dc94632a1b',\n",
       "    'name': '12-c',\n",
       "    'school': {'_uuid': 'b78969e3-ea43-452e-8e8e-6dd15383d6e7',\n",
       "     'name': 'SHNV'}}}},\n",
       " {'_uuid': '119417ec-ec17-4fa4-bb3e-1f3b2bf51449',\n",
       "  'student': {'_uuid': 'd0111c44-2693-47c1-9640-62e87627528a',\n",
       "   'name': 'Muthu',\n",
       "   'class_name': {'_uuid': '5d3afc1c-736f-48fe-8bc5-66dc94632a1b',\n",
       "    'name': '12-c',\n",
       "    'school': {'_uuid': 'b78969e3-ea43-452e-8e8e-6dd15383d6e7',\n",
       "     'name': 'SHNV'}}}}]"
      ]
     },
     "execution_count": 33,
     "metadata": {},
     "output_type": "execute_result"
    }
   ],
   "source": [
    "notebooks.get(\"notes\")"
   ]
  },
  {
   "cell_type": "code",
   "execution_count": 34,
   "id": "d23f6c52-52c8-4787-b68c-b01a508100ca",
   "metadata": {
    "collapsed": true,
    "jupyter": {
     "outputs_hidden": true
    }
   },
   "outputs": [
    {
     "data": {
      "text/plain": [
       "{'_uuid': '214b1bb9-77c6-4461-93da-593e4ff35809',\n",
       " 'id': 1,\n",
       " 'notes': [{'_uuid': '91eb7d9b-c569-4327-8116-5fd18d9943cd',\n",
       "   'id': 1,\n",
       "   'student': {'_uuid': 'd0111c44-2693-47c1-9640-62e87627528a',\n",
       "    'name': 'Muthu',\n",
       "    'class_name': {'_uuid': '5d3afc1c-736f-48fe-8bc5-66dc94632a1b',\n",
       "     'name': '12-c',\n",
       "     'school': {'_uuid': 'b78969e3-ea43-452e-8e8e-6dd15383d6e7',\n",
       "      'name': 'SHNV'}}}},\n",
       "  {'_uuid': '119417ec-ec17-4fa4-bb3e-1f3b2bf51449',\n",
       "   'student': {'_uuid': 'd0111c44-2693-47c1-9640-62e87627528a',\n",
       "    'name': 'Muthu',\n",
       "    'class_name': {'_uuid': '5d3afc1c-736f-48fe-8bc5-66dc94632a1b',\n",
       "     'name': '12-c',\n",
       "     'school': {'_uuid': 'b78969e3-ea43-452e-8e8e-6dd15383d6e7',\n",
       "      'name': 'SHNV'}}}}],\n",
       " 'pages': [1, 2, 3],\n",
       " 'mynote': {'fav': {'_uuid': '91eb7d9b-c569-4327-8116-5fd18d9943cd',\n",
       "   'id': 1,\n",
       "   'student': {'_uuid': 'd0111c44-2693-47c1-9640-62e87627528a',\n",
       "    'name': 'Muthu',\n",
       "    'class_name': {'_uuid': '5d3afc1c-736f-48fe-8bc5-66dc94632a1b',\n",
       "     'name': '12-c',\n",
       "     'school': {'_uuid': 'b78969e3-ea43-452e-8e8e-6dd15383d6e7',\n",
       "      'name': 'SHNV'}}}},\n",
       "  'fav2': {'color': 'red', 'car': 'Ford'}}}"
      ]
     },
     "execution_count": 34,
     "metadata": {},
     "output_type": "execute_result"
    }
   ],
   "source": [
    "notebooks.get()"
   ]
  },
  {
   "cell_type": "code",
   "execution_count": 45,
   "id": "6ad20cd3-d88e-4083-9ec7-671d9b35b368",
   "metadata": {
    "collapsed": true,
    "jupyter": {
     "outputs_hidden": true
    }
   },
   "outputs": [
    {
     "data": {
      "text/plain": [
       "{'_uuid': '214b1bb9-77c6-4461-93da-593e4ff35809',\n",
       " 'id': 1,\n",
       " 'notes': [<__main__.Generic at 0x1080aa3d0>,\n",
       "  <__main__.Generic at 0x1080aa850>],\n",
       " 'pages': [1, 2, 3],\n",
       " 'mynote': {'fav': <__main__.Generic at 0x1080aa3d0>,\n",
       "  'fav2': {'color': 'red', 'car': 'Ford'}}}"
      ]
     },
     "execution_count": 45,
     "metadata": {},
     "output_type": "execute_result"
    }
   ],
   "source": [
    "notebooks.__dict__"
   ]
  },
  {
   "cell_type": "code",
   "execution_count": 35,
   "id": "e7369265-6090-4fba-ad3b-728b74db8af6",
   "metadata": {
    "collapsed": true,
    "jupyter": {
     "outputs_hidden": true
    },
    "tags": []
   },
   "outputs": [
    {
     "name": "stdout",
     "output_type": "stream",
     "text": [
      "{\n",
      "    \"_uuid\": \"214b1bb9-77c6-4461-93da-593e4ff35809\",\n",
      "    \"id\": 1,\n",
      "    \"notes\": [\n",
      "        {\n",
      "            \"_uuid\": \"91eb7d9b-c569-4327-8116-5fd18d9943cd\",\n",
      "            \"id\": 1,\n",
      "            \"student\": {\n",
      "                \"_uuid\": \"d0111c44-2693-47c1-9640-62e87627528a\",\n",
      "                \"name\": \"Muthu\",\n",
      "                \"class_name\": {\n",
      "                    \"_uuid\": \"5d3afc1c-736f-48fe-8bc5-66dc94632a1b\",\n",
      "                    \"name\": \"12-c\",\n",
      "                    \"school\": {\n",
      "                        \"_uuid\": \"b78969e3-ea43-452e-8e8e-6dd15383d6e7\",\n",
      "                        \"name\": \"SHNV\"\n",
      "                    }\n",
      "                }\n",
      "            }\n",
      "        },\n",
      "        {\n",
      "            \"_uuid\": \"119417ec-ec17-4fa4-bb3e-1f3b2bf51449\",\n",
      "            \"student\": {\n",
      "                \"_uuid\": \"d0111c44-2693-47c1-9640-62e87627528a\",\n",
      "                \"name\": \"Muthu\",\n",
      "                \"class_name\": {\n",
      "                    \"_uuid\": \"5d3afc1c-736f-48fe-8bc5-66dc94632a1b\",\n",
      "                    \"name\": \"12-c\",\n",
      "                    \"school\": {\n",
      "                        \"_uuid\": \"b78969e3-ea43-452e-8e8e-6dd15383d6e7\",\n",
      "                        \"name\": \"SHNV\"\n",
      "                    }\n",
      "                }\n",
      "            }\n",
      "        }\n",
      "    ],\n",
      "    \"pages\": [\n",
      "        1,\n",
      "        2,\n",
      "        3\n",
      "    ],\n",
      "    \"mynote\": {\n",
      "        \"fav\": {\n",
      "            \"_uuid\": \"91eb7d9b-c569-4327-8116-5fd18d9943cd\",\n",
      "            \"id\": 1,\n",
      "            \"student\": {\n",
      "                \"_uuid\": \"d0111c44-2693-47c1-9640-62e87627528a\",\n",
      "                \"name\": \"Muthu\",\n",
      "                \"class_name\": {\n",
      "                    \"_uuid\": \"5d3afc1c-736f-48fe-8bc5-66dc94632a1b\",\n",
      "                    \"name\": \"12-c\",\n",
      "                    \"school\": {\n",
      "                        \"_uuid\": \"b78969e3-ea43-452e-8e8e-6dd15383d6e7\",\n",
      "                        \"name\": \"SHNV\"\n",
      "                    }\n",
      "                }\n",
      "            }\n",
      "        },\n",
      "        \"fav2\": {\n",
      "            \"color\": \"red\",\n",
      "            \"car\": \"Ford\"\n",
      "        }\n",
      "    }\n",
      "}\n"
     ]
    }
   ],
   "source": [
    "import json\n",
    "print(json.dumps(notebooks.get(), indent=4))"
   ]
  },
  {
   "cell_type": "code",
   "execution_count": null,
   "id": "b5f3e736-8e33-44dd-a701-20c1d328d706",
   "metadata": {
    "collapsed": true,
    "jupyter": {
     "outputs_hidden": true
    }
   },
   "outputs": [],
   "source": []
  },
  {
   "cell_type": "code",
   "execution_count": 41,
   "id": "22528f8c-d67b-4f99-ae90-1c27541bb538",
   "metadata": {
    "collapsed": true,
    "jupyter": {
     "outputs_hidden": true
    }
   },
   "outputs": [
    {
     "data": {
      "text/plain": [
       "[{'a': 'name'}, {'a': 'name'}]"
      ]
     },
     "execution_count": 41,
     "metadata": {},
     "output_type": "execute_result"
    }
   ],
   "source": [
    "a = {\"a\": \"name\"}\n",
    "b = [a, a]\n",
    "b"
   ]
  },
  {
   "cell_type": "code",
   "execution_count": null,
   "id": "6ffaff9d-e104-425b-bdc4-565f892943ec",
   "metadata": {
    "collapsed": true,
    "jupyter": {
     "outputs_hidden": true
    }
   },
   "outputs": [],
   "source": []
  }
 ],
 "metadata": {
  "kernelspec": {
   "display_name": "Python 3 (ipykernel)",
   "language": "python",
   "name": "python3"
  },
  "language_info": {
   "codemirror_mode": {
    "name": "ipython",
    "version": 3
   },
   "file_extension": ".py",
   "mimetype": "text/x-python",
   "name": "python",
   "nbconvert_exporter": "python",
   "pygments_lexer": "ipython3",
   "version": "3.9.12"
  }
 },
 "nbformat": 4,
 "nbformat_minor": 5
}
