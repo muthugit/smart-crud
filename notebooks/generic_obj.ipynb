{
 "cells": [
  {
   "cell_type": "code",
   "execution_count": 411,
   "id": "24ef5184-8c74-48a5-a4cb-dc302bf58c73",
   "metadata": {},
   "outputs": [],
   "source": [
    "from uuid import uuid4\n",
    "class Generic:\n",
    "    def __init__(self, **kwargs):\n",
    "        self._uuid = str(uuid4())\n",
    "        self.__dict__.update(kwargs)\n",
    "        \n",
    "    def get(self, obj = None):\n",
    "        if obj is None:\n",
    "            return self.__get_all()\n",
    "        elif isinstance(getattr(self,obj), self.__class__):\n",
    "            return self.__get_self_obj(obj)\n",
    "        elif isinstance(getattr(self,obj), list):\n",
    "            return self.__get_list_vals(obj)\n",
    "        elif isinstance(getattr(self, obj), dict):\n",
    "            return self.__get_dict_vals(obj)\n",
    "        return getattr(self,obj)\n",
    "    \n",
    "    def __get_dict_vals(self, obj):\n",
    "        dict_obj = getattr(self,obj)\n",
    "        values = {}\n",
    "        for k in dict_obj:\n",
    "            if isinstance(dict_obj[k], self.__class__):\n",
    "                values[k] = dict_obj[k].get()\n",
    "            else:\n",
    "                values[k] = dict_obj[k]\n",
    "        return values\n",
    "    \n",
    "    def __get_self_obj(self, obj):\n",
    "        values = {}\n",
    "        instance_dict = getattr(self,obj).__dict__\n",
    "        for k in instance_dict:\n",
    "            values[k] = getattr(self,obj).get(k)\n",
    "        return values\n",
    "    \n",
    "    def __get_list_vals(self, obj):\n",
    "        if isinstance(getattr(self,obj)[0], self.__class__):\n",
    "            list_vals = getattr(self, obj)\n",
    "            list_objs = []\n",
    "            for k in list_vals:\n",
    "                instance_dict = k.__dict__\n",
    "                values = {}\n",
    "                for j in instance_dict:\n",
    "                    values[j] = k.get(j)\n",
    "                list_objs.append(values)\n",
    "            return list_objs\n",
    "        else:\n",
    "            return getattr(self,obj)\n",
    "\n",
    "    def __get_all(self):\n",
    "        values = {}\n",
    "        for k in self.__dict__:\n",
    "            values[k] = self.get(k)\n",
    "        return values"
   ]
  },
  {
   "cell_type": "code",
   "execution_count": 412,
   "id": "bf807205-cb00-43fb-918e-34190bf99914",
   "metadata": {},
   "outputs": [],
   "source": [
    "_school = {\n",
    "        \"name\": \"SHNV\"\n",
    "}\n",
    "school = Generic(**_school)"
   ]
  },
  {
   "cell_type": "code",
   "execution_count": 413,
   "id": "510f717d-94c1-4fca-86b0-48f93370e9d4",
   "metadata": {},
   "outputs": [],
   "source": [
    "_class = {\n",
    "    \"name\": \"12-c\",\n",
    "    \"school\": school\n",
    "}\n",
    "school_class = Generic(**_class)"
   ]
  },
  {
   "cell_type": "code",
   "execution_count": 414,
   "id": "22c6500f-9929-4276-a6da-8473cbbe4fd4",
   "metadata": {},
   "outputs": [],
   "source": [
    "_stu = {\n",
    "    \"name\": \"Muthu\",\n",
    "    \"class_name\": school_class\n",
    "}\n",
    "school_stu = Generic(**_stu)"
   ]
  },
  {
   "cell_type": "code",
   "execution_count": 415,
   "id": "a4fa414f-2e06-4c7e-86d0-9ba861dedce2",
   "metadata": {},
   "outputs": [],
   "source": [
    "_notebook = {\n",
    "    \"id\": 1,\n",
    "    \"student\": school_stu\n",
    "}\n",
    "notebook1 = Generic(**_notebook)"
   ]
  },
  {
   "cell_type": "code",
   "execution_count": 416,
   "id": "0bcde1e7-cfeb-41af-a7ee-046db60dce9f",
   "metadata": {},
   "outputs": [],
   "source": [
    "_notebook = {\n",
    "    \"id\": 2,\n",
    "    \"student\": school_stu\n",
    "}\n",
    "notebook2 = Generic(**_notebook)"
   ]
  },
  {
   "cell_type": "code",
   "execution_count": 417,
   "id": "fd2b8cb1-b7ce-4f4c-9414-a8ccb60bf10d",
   "metadata": {},
   "outputs": [],
   "source": [
    "_notebooks = {\n",
    "    \"id\": 1,\n",
    "    \"notes\": [notebook1, notebook2],\n",
    "    \"pages\": [1,2,3],\n",
    "    \"mynote\": {\n",
    "        \"fav\": notebook1,\n",
    "        \"fav2\": {\n",
    "            \"color\": \"red\",\n",
    "            \"car\": \"Ford\"\n",
    "        }\n",
    "    }\n",
    "    \n",
    "}\n",
    "notebooks = Generic(**_notebooks)"
   ]
  },
  {
   "cell_type": "code",
   "execution_count": 418,
   "id": "365fa1e8-56e5-402e-8dcc-865ff531faea",
   "metadata": {},
   "outputs": [
    {
     "data": {
      "text/plain": [
       "{'_uuid': 'f9c9dce7-2b6a-4deb-9896-1cdf5cb067d4',\n",
       " 'id': 1,\n",
       " 'notes': [{'_uuid': '17ae4631-1dc5-4434-a10d-fda448ba44e6',\n",
       "   'id': 1,\n",
       "   'student': {'_uuid': '782cfbcc-990b-4022-93f1-c66b171ced68',\n",
       "    'name': 'Muthu',\n",
       "    'class_name': {'_uuid': '9cfdcc12-bcf6-47db-a5b1-fef5dc3a9c85',\n",
       "     'name': '12-c',\n",
       "     'school': {'_uuid': '24fbc13c-1df2-4924-9723-9b39f4057a7f',\n",
       "      'name': 'SHNV'}}}},\n",
       "  {'_uuid': 'f4bd8cbb-10e2-4bf3-a5e4-49b4c25fec00',\n",
       "   'id': 2,\n",
       "   'student': {'_uuid': '782cfbcc-990b-4022-93f1-c66b171ced68',\n",
       "    'name': 'Muthu',\n",
       "    'class_name': {'_uuid': '9cfdcc12-bcf6-47db-a5b1-fef5dc3a9c85',\n",
       "     'name': '12-c',\n",
       "     'school': {'_uuid': '24fbc13c-1df2-4924-9723-9b39f4057a7f',\n",
       "      'name': 'SHNV'}}}}],\n",
       " 'pages': [1, 2, 3],\n",
       " 'mynote': {'fav': {'_uuid': '17ae4631-1dc5-4434-a10d-fda448ba44e6',\n",
       "   'id': 1,\n",
       "   'student': {'_uuid': '782cfbcc-990b-4022-93f1-c66b171ced68',\n",
       "    'name': 'Muthu',\n",
       "    'class_name': {'_uuid': '9cfdcc12-bcf6-47db-a5b1-fef5dc3a9c85',\n",
       "     'name': '12-c',\n",
       "     'school': {'_uuid': '24fbc13c-1df2-4924-9723-9b39f4057a7f',\n",
       "      'name': 'SHNV'}}}},\n",
       "  'fav2': {'color': 'red', 'car': 'Ford'}}}"
      ]
     },
     "execution_count": 418,
     "metadata": {},
     "output_type": "execute_result"
    }
   ],
   "source": [
    "notebooks.get()"
   ]
  },
  {
   "cell_type": "code",
   "execution_count": 419,
   "id": "1d0bfbd2-a8cc-4c75-be3d-96c89cc6cc87",
   "metadata": {},
   "outputs": [
    {
     "data": {
      "text/plain": [
       "{'_uuid': 'f9c9dce7-2b6a-4deb-9896-1cdf5cb067d4',\n",
       " 'id': 1,\n",
       " 'notes': [<__main__.Generic at 0x1099db130>,\n",
       "  <__main__.Generic at 0x1099dbc10>],\n",
       " 'pages': [1, 2, 3],\n",
       " 'mynote': {'fav': <__main__.Generic at 0x1099db130>,\n",
       "  'fav2': {'color': 'red', 'car': 'Ford'}}}"
      ]
     },
     "execution_count": 419,
     "metadata": {},
     "output_type": "execute_result"
    }
   ],
   "source": [
    "notebooks.__dict__"
   ]
  },
  {
   "cell_type": "code",
   "execution_count": 420,
   "id": "e9a094f8-9561-4d90-8d3d-7113d601a7b4",
   "metadata": {},
   "outputs": [
    {
     "data": {
      "text/plain": [
       "[{'_uuid': '17ae4631-1dc5-4434-a10d-fda448ba44e6',\n",
       "  'id': 1,\n",
       "  'student': {'_uuid': '782cfbcc-990b-4022-93f1-c66b171ced68',\n",
       "   'name': 'Muthu',\n",
       "   'class_name': {'_uuid': '9cfdcc12-bcf6-47db-a5b1-fef5dc3a9c85',\n",
       "    'name': '12-c',\n",
       "    'school': {'_uuid': '24fbc13c-1df2-4924-9723-9b39f4057a7f',\n",
       "     'name': 'SHNV'}}}},\n",
       " {'_uuid': 'f4bd8cbb-10e2-4bf3-a5e4-49b4c25fec00',\n",
       "  'id': 2,\n",
       "  'student': {'_uuid': '782cfbcc-990b-4022-93f1-c66b171ced68',\n",
       "   'name': 'Muthu',\n",
       "   'class_name': {'_uuid': '9cfdcc12-bcf6-47db-a5b1-fef5dc3a9c85',\n",
       "    'name': '12-c',\n",
       "    'school': {'_uuid': '24fbc13c-1df2-4924-9723-9b39f4057a7f',\n",
       "     'name': 'SHNV'}}}}]"
      ]
     },
     "execution_count": 420,
     "metadata": {},
     "output_type": "execute_result"
    }
   ],
   "source": [
    "notebooks.get(\"notes\")"
   ]
  },
  {
   "cell_type": "code",
   "execution_count": 421,
   "id": "d23f6c52-52c8-4787-b68c-b01a508100ca",
   "metadata": {},
   "outputs": [
    {
     "data": {
      "text/plain": [
       "{'_uuid': 'f9c9dce7-2b6a-4deb-9896-1cdf5cb067d4',\n",
       " 'id': 1,\n",
       " 'notes': [{'_uuid': '17ae4631-1dc5-4434-a10d-fda448ba44e6',\n",
       "   'id': 1,\n",
       "   'student': {'_uuid': '782cfbcc-990b-4022-93f1-c66b171ced68',\n",
       "    'name': 'Muthu',\n",
       "    'class_name': {'_uuid': '9cfdcc12-bcf6-47db-a5b1-fef5dc3a9c85',\n",
       "     'name': '12-c',\n",
       "     'school': {'_uuid': '24fbc13c-1df2-4924-9723-9b39f4057a7f',\n",
       "      'name': 'SHNV'}}}},\n",
       "  {'_uuid': 'f4bd8cbb-10e2-4bf3-a5e4-49b4c25fec00',\n",
       "   'id': 2,\n",
       "   'student': {'_uuid': '782cfbcc-990b-4022-93f1-c66b171ced68',\n",
       "    'name': 'Muthu',\n",
       "    'class_name': {'_uuid': '9cfdcc12-bcf6-47db-a5b1-fef5dc3a9c85',\n",
       "     'name': '12-c',\n",
       "     'school': {'_uuid': '24fbc13c-1df2-4924-9723-9b39f4057a7f',\n",
       "      'name': 'SHNV'}}}}],\n",
       " 'pages': [1, 2, 3],\n",
       " 'mynote': {'fav': {'_uuid': '17ae4631-1dc5-4434-a10d-fda448ba44e6',\n",
       "   'id': 1,\n",
       "   'student': {'_uuid': '782cfbcc-990b-4022-93f1-c66b171ced68',\n",
       "    'name': 'Muthu',\n",
       "    'class_name': {'_uuid': '9cfdcc12-bcf6-47db-a5b1-fef5dc3a9c85',\n",
       "     'name': '12-c',\n",
       "     'school': {'_uuid': '24fbc13c-1df2-4924-9723-9b39f4057a7f',\n",
       "      'name': 'SHNV'}}}},\n",
       "  'fav2': {'color': 'red', 'car': 'Ford'}}}"
      ]
     },
     "execution_count": 421,
     "metadata": {},
     "output_type": "execute_result"
    }
   ],
   "source": [
    "notebooks.get()"
   ]
  },
  {
   "cell_type": "code",
   "execution_count": 422,
   "id": "e7369265-6090-4fba-ad3b-728b74db8af6",
   "metadata": {},
   "outputs": [
    {
     "name": "stdout",
     "output_type": "stream",
     "text": [
      "{\n",
      "    \"_uuid\": \"f9c9dce7-2b6a-4deb-9896-1cdf5cb067d4\",\n",
      "    \"id\": 1,\n",
      "    \"notes\": [\n",
      "        {\n",
      "            \"_uuid\": \"17ae4631-1dc5-4434-a10d-fda448ba44e6\",\n",
      "            \"id\": 1,\n",
      "            \"student\": {\n",
      "                \"_uuid\": \"782cfbcc-990b-4022-93f1-c66b171ced68\",\n",
      "                \"name\": \"Muthu\",\n",
      "                \"class_name\": {\n",
      "                    \"_uuid\": \"9cfdcc12-bcf6-47db-a5b1-fef5dc3a9c85\",\n",
      "                    \"name\": \"12-c\",\n",
      "                    \"school\": {\n",
      "                        \"_uuid\": \"24fbc13c-1df2-4924-9723-9b39f4057a7f\",\n",
      "                        \"name\": \"SHNV\"\n",
      "                    }\n",
      "                }\n",
      "            }\n",
      "        },\n",
      "        {\n",
      "            \"_uuid\": \"f4bd8cbb-10e2-4bf3-a5e4-49b4c25fec00\",\n",
      "            \"id\": 2,\n",
      "            \"student\": {\n",
      "                \"_uuid\": \"782cfbcc-990b-4022-93f1-c66b171ced68\",\n",
      "                \"name\": \"Muthu\",\n",
      "                \"class_name\": {\n",
      "                    \"_uuid\": \"9cfdcc12-bcf6-47db-a5b1-fef5dc3a9c85\",\n",
      "                    \"name\": \"12-c\",\n",
      "                    \"school\": {\n",
      "                        \"_uuid\": \"24fbc13c-1df2-4924-9723-9b39f4057a7f\",\n",
      "                        \"name\": \"SHNV\"\n",
      "                    }\n",
      "                }\n",
      "            }\n",
      "        }\n",
      "    ],\n",
      "    \"pages\": [\n",
      "        1,\n",
      "        2,\n",
      "        3\n",
      "    ],\n",
      "    \"mynote\": {\n",
      "        \"fav\": {\n",
      "            \"_uuid\": \"17ae4631-1dc5-4434-a10d-fda448ba44e6\",\n",
      "            \"id\": 1,\n",
      "            \"student\": {\n",
      "                \"_uuid\": \"782cfbcc-990b-4022-93f1-c66b171ced68\",\n",
      "                \"name\": \"Muthu\",\n",
      "                \"class_name\": {\n",
      "                    \"_uuid\": \"9cfdcc12-bcf6-47db-a5b1-fef5dc3a9c85\",\n",
      "                    \"name\": \"12-c\",\n",
      "                    \"school\": {\n",
      "                        \"_uuid\": \"24fbc13c-1df2-4924-9723-9b39f4057a7f\",\n",
      "                        \"name\": \"SHNV\"\n",
      "                    }\n",
      "                }\n",
      "            }\n",
      "        },\n",
      "        \"fav2\": {\n",
      "            \"color\": \"red\",\n",
      "            \"car\": \"Ford\"\n",
      "        }\n",
      "    }\n",
      "}\n"
     ]
    }
   ],
   "source": [
    "import json\n",
    "print(json.dumps(notebooks.get(), indent=4))"
   ]
  },
  {
   "cell_type": "code",
   "execution_count": null,
   "id": "b5f3e736-8e33-44dd-a701-20c1d328d706",
   "metadata": {},
   "outputs": [],
   "source": []
  },
  {
   "cell_type": "code",
   "execution_count": null,
   "id": "22528f8c-d67b-4f99-ae90-1c27541bb538",
   "metadata": {},
   "outputs": [],
   "source": []
  }
 ],
 "metadata": {
  "kernelspec": {
   "display_name": "Python 3 (ipykernel)",
   "language": "python",
   "name": "python3"
  },
  "language_info": {
   "codemirror_mode": {
    "name": "ipython",
    "version": 3
   },
   "file_extension": ".py",
   "mimetype": "text/x-python",
   "name": "python",
   "nbconvert_exporter": "python",
   "pygments_lexer": "ipython3",
   "version": "3.9.12"
  }
 },
 "nbformat": 4,
 "nbformat_minor": 5
}
